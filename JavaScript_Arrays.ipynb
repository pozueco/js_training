{
  "nbformat": 4,
  "nbformat_minor": 0,
  "metadata": {
    "colab": {
      "name": "JavaScript - Arrays.ipynb",
      "provenance": [],
      "include_colab_link": true
    },
    "kernelspec": {
      "name": "javascript",
      "display_name": "Javascript"
    },
    "accelerator": "GPU"
  },
  "cells": [
    {
      "cell_type": "markdown",
      "metadata": {
        "id": "view-in-github",
        "colab_type": "text"
      },
      "source": [
        "<a href=\"https://colab.research.google.com/github/pozueco/js_training/blob/main/JavaScript_Arrays.ipynb\" target=\"_parent\"><img src=\"https://colab.research.google.com/assets/colab-badge.svg\" alt=\"Open In Colab\"/></a>"
      ]
    },
    {
      "cell_type": "markdown",
      "source": [
        "# Preparation"
      ],
      "metadata": {
        "id": "ssXq19Zygkas"
      }
    },
    {
      "cell_type": "code",
      "metadata": {
        "id": "ZVkF16NwcMsZ",
        "colab": {
          "base_uri": "https://localhost:8080/"
        },
        "outputId": "a808d095-cf9e-4c75-fc36-09475c501e03"
      },
      "source": [
        "#/* run this once, then reload, and then skip this\n",
        "!npm install -g --unsafe-perm ijavascript\n",
        "!ijsinstall --install=global  # as fake comment */"
      ],
      "execution_count": 21,
      "outputs": [
        {
          "output_type": "stream",
          "name": "stdout",
          "text": [
            "\u001b[K\u001b[?25h\u001b[37;40mnpm\u001b[0m \u001b[0m\u001b[30;43mWARN\u001b[0m \u001b[0m\u001b[35mdeprecated\u001b[0m uuid@3.4.0: Please upgrade  to version 7 or higher.  Older versions may use Math.random() in certain circumstances, which is known to be problematic.  See https://v8.dev/blog/math-random for details.\n",
            "\u001b[K\u001b[?25h/tools/node/bin/ijs -> /tools/node/lib/node_modules/ijavascript/bin/ijavascript.js\n",
            "/tools/node/bin/ijsconsole -> /tools/node/lib/node_modules/ijavascript/bin/ijsconsole.js\n",
            "/tools/node/bin/ijsinstall -> /tools/node/lib/node_modules/ijavascript/bin/ijsinstall.js\n",
            "/tools/node/bin/ijskernel -> /tools/node/lib/node_modules/ijavascript/lib/kernel.js\n",
            "/tools/node/bin/ijsnotebook -> /tools/node/lib/node_modules/ijavascript/bin/ijsnotebook.js\n",
            "+ ijavascript@5.2.1\n",
            "updated 1 package in 1.493s\n"
          ]
        }
      ]
    },
    {
      "cell_type": "markdown",
      "source": [
        "# JavaScript Arrays"
      ],
      "metadata": {
        "id": "cegH4fyoglM8"
      }
    },
    {
      "cell_type": "markdown",
      "source": [
        "An array is a special variable, which can hold more than one value. The easiest way to create a JavaScript Array is by using array literals:"
      ],
      "metadata": {
        "id": "7K7LPxMKi9Hl"
      }
    },
    {
      "cell_type": "code",
      "metadata": {
        "id": "skqAs_UHc8_P"
      },
      "source": [
        "cars = [\"Saab\", \"Volvo\", \"BMW\"];"
      ],
      "execution_count": 5,
      "outputs": []
    },
    {
      "cell_type": "markdown",
      "source": [
        "You access an array element by referring to the index number, where 0 is always the first element:"
      ],
      "metadata": {
        "id": "D-tRDtwejaVC"
      }
    },
    {
      "cell_type": "code",
      "source": [
        "car = cars[0];\n",
        "\n",
        "car"
      ],
      "metadata": {
        "colab": {
          "base_uri": "https://localhost:8080/",
          "height": 35
        },
        "id": "5sPI54D5jaeM",
        "outputId": "7e35bc1a-a992-4102-bf46-f080e1e124eb"
      },
      "execution_count": 10,
      "outputs": [
        {
          "output_type": "execute_result",
          "data": {
            "text/plain": [
              "'Saab'"
            ],
            "application/vnd.google.colaboratory.intrinsic+json": {
              "type": "string"
            }
          },
          "metadata": {},
          "execution_count": 10
        }
      ]
    },
    {
      "cell_type": "markdown",
      "source": [
        "Using the following statement can change the value of a specific element in an array:"
      ],
      "metadata": {
        "id": "42czdwoPk9tC"
      }
    },
    {
      "cell_type": "code",
      "source": [
        "cars[0] = \"Opel\";\n",
        "\n",
        "cars"
      ],
      "metadata": {
        "colab": {
          "base_uri": "https://localhost:8080/"
        },
        "id": "UyMgFxJkk95V",
        "outputId": "35f02e68-ae5d-485f-813d-46e1c0e1ca02"
      },
      "execution_count": 11,
      "outputs": [
        {
          "output_type": "execute_result",
          "data": {
            "text/plain": [
              "['Opel', 'Volvo', 'BMW']"
            ]
          },
          "metadata": {},
          "execution_count": 11
        }
      ]
    },
    {
      "cell_type": "markdown",
      "source": [
        "The real strength of JavaScript arrays are the built-in array properties and methods:"
      ],
      "metadata": {
        "id": "ddSyu0ikk_VB"
      }
    },
    {
      "cell_type": "code",
      "source": [
        "cars.length"
      ],
      "metadata": {
        "colab": {
          "base_uri": "https://localhost:8080/"
        },
        "id": "_XgHd9Omk_dF",
        "outputId": "6ebb60ed-d5b4-4fa4-b6da-da0e6e0df173"
      },
      "execution_count": 13,
      "outputs": [
        {
          "output_type": "execute_result",
          "data": {
            "text/plain": [
              "3"
            ]
          },
          "metadata": {},
          "execution_count": 13
        }
      ]
    },
    {
      "cell_type": "markdown",
      "source": [
        "One way to loop through an array, is using a for loop:"
      ],
      "metadata": {
        "id": "rlejeQKDl55B"
      }
    },
    {
      "cell_type": "code",
      "source": [
        "const fruits = [\"Banana\", \"Orange\", \"Apple\", \"Mango\"];\n",
        "let fLen = fruits.length;\n",
        "\n",
        "let text = \"<ul>\";\n",
        "for (let i = 0; i < fLen; i++) {\n",
        "  text += \"<li>\" + fruits[i] + \"</li>\";\n",
        "}\n",
        "text += \"</ul>\";"
      ],
      "metadata": {
        "id": "SQwLbDy9l6A8"
      },
      "execution_count": null,
      "outputs": []
    },
    {
      "cell_type": "markdown",
      "source": [
        "The easiest way to add a new element to an array is using the push() method:"
      ],
      "metadata": {
        "id": "PkCTGS7imB0o"
      }
    },
    {
      "cell_type": "code",
      "source": [
        "fruits = [\"Banana\", \"Orange\", \"Apple\"];\n",
        "\n",
        "fruits.push(\"Lemon\");\n",
        "\n",
        "fruits"
      ],
      "metadata": {
        "colab": {
          "base_uri": "https://localhost:8080/",
          "height": 235
        },
        "id": "IZOPicaNmB8j",
        "outputId": "c62cc6be-a43f-46aa-91ed-0478905123fa"
      },
      "execution_count": 20,
      "outputs": [
        {
          "output_type": "error",
          "ename": "AttributeError",
          "evalue": "ignored",
          "traceback": [
            "\u001b[0;31m---------------------------------------------------------------------------\u001b[0m",
            "\u001b[0;31mAttributeError\u001b[0m                            Traceback (most recent call last)",
            "\u001b[0;32m<ipython-input-20-e4d62389fc48>\u001b[0m in \u001b[0;36m<module>\u001b[0;34m\u001b[0m\n\u001b[1;32m      1\u001b[0m \u001b[0mfruits\u001b[0m \u001b[0;34m=\u001b[0m \u001b[0;34m[\u001b[0m\u001b[0;34m\"Banana\"\u001b[0m\u001b[0;34m,\u001b[0m \u001b[0;34m\"Orange\"\u001b[0m\u001b[0;34m,\u001b[0m \u001b[0;34m\"Apple\"\u001b[0m\u001b[0;34m]\u001b[0m\u001b[0;34m;\u001b[0m\u001b[0;34m\u001b[0m\u001b[0;34m\u001b[0m\u001b[0m\n\u001b[1;32m      2\u001b[0m \u001b[0;34m\u001b[0m\u001b[0m\n\u001b[0;32m----> 3\u001b[0;31m \u001b[0mfruits\u001b[0m\u001b[0;34m.\u001b[0m\u001b[0mpush\u001b[0m\u001b[0;34m(\u001b[0m\u001b[0;34m\"Lemon\"\u001b[0m\u001b[0;34m)\u001b[0m\u001b[0;34m;\u001b[0m\u001b[0;34m\u001b[0m\u001b[0;34m\u001b[0m\u001b[0m\n\u001b[0m\u001b[1;32m      4\u001b[0m \u001b[0;34m\u001b[0m\u001b[0m\n\u001b[1;32m      5\u001b[0m \u001b[0mfruits\u001b[0m\u001b[0;34m\u001b[0m\u001b[0;34m\u001b[0m\u001b[0m\n",
            "\u001b[0;31mAttributeError\u001b[0m: 'list' object has no attribute 'push'"
          ]
        }
      ]
    },
    {
      "cell_type": "markdown",
      "source": [
        "# Exercises"
      ],
      "metadata": {
        "id": "bTLsKKJmg5wX"
      }
    },
    {
      "cell_type": "code",
      "source": [],
      "metadata": {
        "id": "yF5tfVgGg7YM"
      },
      "execution_count": null,
      "outputs": []
    }
  ]
}