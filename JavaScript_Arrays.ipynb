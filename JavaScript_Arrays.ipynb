{
  "nbformat": 4,
  "nbformat_minor": 0,
  "metadata": {
    "colab": {
      "name": "JavaScript - Arrays.ipynb",
      "provenance": [],
      "toc_visible": true,
      "include_colab_link": true
    },
    "kernelspec": {
      "name": "javascript",
      "display_name": "Javascript"
    },
    "accelerator": "GPU"
  },
  "cells": [
    {
      "cell_type": "markdown",
      "metadata": {
        "id": "view-in-github",
        "colab_type": "text"
      },
      "source": [
        "<a href=\"https://colab.research.google.com/github/pozueco/js_training/blob/main/JavaScript_Arrays.ipynb\" target=\"_parent\"><img src=\"https://colab.research.google.com/assets/colab-badge.svg\" alt=\"Open In Colab\"/></a>"
      ]
    },
    {
      "cell_type": "markdown",
      "source": [
        "In order to use this document, following the next steps:\n",
        "\n",
        "1. Click on File > Save a copy in Drive, to create your own version of the document\n",
        "2. Click to execute \"Preparation\"\n",
        "3. Reload the document \n",
        "4. Continue after the next section"
      ],
      "metadata": {
        "id": "eVUsBbTLrShK"
      }
    },
    {
      "cell_type": "markdown",
      "source": [
        "# Preparation"
      ],
      "metadata": {
        "id": "ssXq19Zygkas"
      }
    },
    {
      "cell_type": "code",
      "metadata": {
        "id": "ZVkF16NwcMsZ",
        "colab": {
          "base_uri": "https://localhost:8080/"
        },
        "outputId": "a808d095-cf9e-4c75-fc36-09475c501e03"
      },
      "source": [
        "#/* run this once, then reload, and then skip this\n",
        "!npm install -g --unsafe-perm ijavascript\n",
        "!ijsinstall --install=global  # as fake comment */"
      ],
      "execution_count": null,
      "outputs": [
        {
          "output_type": "stream",
          "name": "stdout",
          "text": [
            "\u001b[K\u001b[?25h\u001b[37;40mnpm\u001b[0m \u001b[0m\u001b[30;43mWARN\u001b[0m \u001b[0m\u001b[35mdeprecated\u001b[0m uuid@3.4.0: Please upgrade  to version 7 or higher.  Older versions may use Math.random() in certain circumstances, which is known to be problematic.  See https://v8.dev/blog/math-random for details.\n",
            "\u001b[K\u001b[?25h/tools/node/bin/ijs -> /tools/node/lib/node_modules/ijavascript/bin/ijavascript.js\n",
            "/tools/node/bin/ijsconsole -> /tools/node/lib/node_modules/ijavascript/bin/ijsconsole.js\n",
            "/tools/node/bin/ijsinstall -> /tools/node/lib/node_modules/ijavascript/bin/ijsinstall.js\n",
            "/tools/node/bin/ijskernel -> /tools/node/lib/node_modules/ijavascript/lib/kernel.js\n",
            "/tools/node/bin/ijsnotebook -> /tools/node/lib/node_modules/ijavascript/bin/ijsnotebook.js\n",
            "+ ijavascript@5.2.1\n",
            "updated 1 package in 1.493s\n"
          ]
        }
      ]
    },
    {
      "cell_type": "markdown",
      "source": [
        "# JavaScript Arrays"
      ],
      "metadata": {
        "id": "cegH4fyoglM8"
      }
    },
    {
      "cell_type": "markdown",
      "source": [
        "An array is a special variable, which can hold more than one value. The easiest way to create a JavaScript Array is by using array literals:"
      ],
      "metadata": {
        "id": "7K7LPxMKi9Hl"
      }
    },
    {
      "cell_type": "code",
      "metadata": {
        "id": "skqAs_UHc8_P",
        "colab": {
          "base_uri": "https://localhost:8080/"
        },
        "outputId": "c0be0ca7-bccd-4809-e753-defc09bb45ba"
      },
      "source": [
        "// We create an array with the elements \"Saab\", \"Volvo\" and \"BMW\"\n",
        "cars = [\"Saab\", \"Volvo\", \"BMW\"];"
      ],
      "execution_count": null,
      "outputs": [
        {
          "output_type": "execute_result",
          "data": {
            "text/plain": [
              "[ 'Saab', 'Volvo', 'BMW' ]"
            ]
          },
          "metadata": {},
          "execution_count": 21
        }
      ]
    },
    {
      "cell_type": "markdown",
      "source": [
        "You access an array element by referring to the index number, where 0 is always the first element:"
      ],
      "metadata": {
        "id": "D-tRDtwejaVC"
      }
    },
    {
      "cell_type": "code",
      "source": [
        "// We can access the first element using the index 0\n",
        "car = cars[0];\n",
        "\n",
        "// We print the contents of the array\n",
        "console.log(cars)"
      ],
      "metadata": {
        "colab": {
          "base_uri": "https://localhost:8080/"
        },
        "id": "5sPI54D5jaeM",
        "outputId": "2dfa7ded-bc6f-4168-c619-f87b12bd1a8f"
      },
      "execution_count": null,
      "outputs": [
        {
          "output_type": "stream",
          "name": "stdout",
          "text": [
            "[ 'Saab', 'Volvo', 'BMW' ]\n"
          ]
        }
      ]
    },
    {
      "cell_type": "markdown",
      "source": [
        "Using the following statement can change the value of a specific element in an array:"
      ],
      "metadata": {
        "id": "42czdwoPk9tC"
      }
    },
    {
      "cell_type": "code",
      "source": [
        "// We can change the first element of the array using the following statement\n",
        "cars[0] = \"Opel\";\n",
        "\n",
        "// We print the contents of the array\n",
        "console.log(cars)"
      ],
      "metadata": {
        "colab": {
          "base_uri": "https://localhost:8080/"
        },
        "id": "UyMgFxJkk95V",
        "outputId": "0f0b2869-22ea-4dc3-961f-9137358a394b"
      },
      "execution_count": null,
      "outputs": [
        {
          "output_type": "stream",
          "name": "stdout",
          "text": [
            "[ 'Opel', 'Volvo', 'BMW' ]\n"
          ]
        }
      ]
    },
    {
      "cell_type": "markdown",
      "source": [
        "# Looping through Arrays"
      ],
      "metadata": {
        "id": "PLd3WVVGsHgN"
      }
    },
    {
      "cell_type": "markdown",
      "source": [
        "The real strength of JavaScript arrays are the built-in array properties and methods:"
      ],
      "metadata": {
        "id": "ddSyu0ikk_VB"
      }
    },
    {
      "cell_type": "code",
      "source": [
        "// In order to get the length of an array, we can use the following property\n",
        "cars.length"
      ],
      "metadata": {
        "colab": {
          "base_uri": "https://localhost:8080/"
        },
        "id": "_XgHd9Omk_dF",
        "outputId": "37c5e4ee-5665-41c4-a836-9f4e1900e60d"
      },
      "execution_count": null,
      "outputs": [
        {
          "output_type": "execute_result",
          "data": {
            "text/plain": [
              "3"
            ]
          },
          "metadata": {},
          "execution_count": 9
        }
      ]
    },
    {
      "cell_type": "markdown",
      "source": [
        "One way to loop through an array, is using a *for* loop using the following syntax:\n",
        "\n",
        "    for (<initialization>;<condition>;<increment>) {\n",
        "\n",
        "        <actions>\n",
        "\n",
        "    }\n",
        "\n",
        "When the loop executes, the following actions happen:\n",
        "\n",
        "* The **initializing** expression is executed and initializes the loop counters.\n",
        "* The **condition** expression is evaluated and if the value is true, the loop statements execute. Otherwise, the for loop terminates.\n",
        "* The **increment** is executed to continue with the next loop."
      ],
      "metadata": {
        "id": "rlejeQKDl55B"
      }
    },
    {
      "cell_type": "markdown",
      "source": [
        "The following code prints all the elements of an array, starting from the first one of them:"
      ],
      "metadata": {
        "id": "CrwodcU-rF3s"
      }
    },
    {
      "cell_type": "code",
      "source": [
        "// We create an array with elements \"Banana\", \"Orange\" and \"Apple\"\n",
        "fruits = [\"Banana\", \"Orange\", \"Apple\", \"Mango\"];\n",
        "\n",
        "// We can loop through the elements of the arrray \n",
        "// starting from the begining until we reach the last one\n",
        "for (i = 0; i < fruits.length; i++) {\n",
        "\n",
        "  // We can print the current element of the array\n",
        "  console.log(\"Element \" + i + \" : \" + fruits[i]);\n",
        "\n",
        "}"
      ],
      "metadata": {
        "id": "SQwLbDy9l6A8",
        "colab": {
          "base_uri": "https://localhost:8080/"
        },
        "outputId": "d8736823-65b7-4631-bf9b-974ce8a8c915"
      },
      "execution_count": null,
      "outputs": [
        {
          "output_type": "stream",
          "name": "stdout",
          "text": [
            "Element 0 : Banana\n",
            "Element 1 : Orange\n",
            "Element 2 : Apple\n",
            "Element 3 : Mango\n"
          ]
        }
      ]
    },
    {
      "cell_type": "markdown",
      "source": [
        "The easiest way to add a new element to an array is using the *push()* method:"
      ],
      "metadata": {
        "id": "PkCTGS7imB0o"
      }
    },
    {
      "cell_type": "code",
      "source": [
        "// We create an array with elements \"Banana\", \"Orange\" and \"Apple\"\n",
        "fruits = [\"Banana\", \"Orange\", \"Apple\"];\n",
        "\n",
        "// We add a new element \"Lemon\" to the array\n",
        "fruits.push(\"Lemon\");\n",
        "\n",
        "// We print the contents of the element of the array\n",
        "console.log(fruits)"
      ],
      "metadata": {
        "colab": {
          "base_uri": "https://localhost:8080/"
        },
        "id": "IZOPicaNmB8j",
        "outputId": "071f3752-3bea-4fe5-9cae-1d095ce20cc3"
      },
      "execution_count": null,
      "outputs": [
        {
          "output_type": "stream",
          "name": "stdout",
          "text": [
            "[ 'Banana', 'Orange', 'Apple', 'Lemon' ]\n"
          ]
        }
      ]
    },
    {
      "cell_type": "markdown",
      "source": [
        "# Objects"
      ],
      "metadata": {
        "id": "TGUwUziksK_z"
      }
    },
    {
      "cell_type": "markdown",
      "source": [
        "JavaScript objects are containers for named values called properties:"
      ],
      "metadata": {
        "id": "hOO0ye9csLLU"
      }
    },
    {
      "cell_type": "code",
      "source": [
        "// We can create an object for a person with a first name, last name and age\n",
        "person = { firstName: \"John\", lastName: \"Doe\", age: 46 };"
      ],
      "metadata": {
        "colab": {
          "base_uri": "https://localhost:8080/"
        },
        "id": "dcJ14C2zsLQ4",
        "outputId": "84e63f40-fc2f-43dd-f940-039ecabf2aed"
      },
      "execution_count": null,
      "outputs": [
        {
          "output_type": "execute_result",
          "data": {
            "text/plain": [
              "{ firstName: 'John', lastName: 'Doe', age: 46 }"
            ]
          },
          "metadata": {},
          "execution_count": 63
        }
      ]
    },
    {
      "cell_type": "markdown",
      "source": [
        "Objects use names to access its \"members\", instead of an index:"
      ],
      "metadata": {
        "id": "zFGn3JgZs6di"
      }
    },
    {
      "cell_type": "code",
      "source": [
        "// We can get the value of an element using its name\n",
        "firstName = person.firstName\n",
        "\n",
        "// We can print the first name of the person\n",
        "console.log(firstName)"
      ],
      "metadata": {
        "colab": {
          "base_uri": "https://localhost:8080/"
        },
        "id": "SDWGpBLos6js",
        "outputId": "0011e89a-3a0e-4b3d-871d-67e8dac33c22"
      },
      "execution_count": null,
      "outputs": [
        {
          "output_type": "stream",
          "name": "stdout",
          "text": [
            "John\n"
          ]
        }
      ]
    },
    {
      "cell_type": "markdown",
      "source": [
        "Names can also be used to access its \"members\" and change their values:"
      ],
      "metadata": {
        "id": "6B1Ow_wkvO2m"
      }
    },
    {
      "cell_type": "code",
      "source": [
        "// We can get the value of an element using its name\n",
        "firstName = \"Peter\"\n",
        "\n",
        "// We can print the first name of the person\n",
        "console.log(firstName)"
      ],
      "metadata": {
        "colab": {
          "base_uri": "https://localhost:8080/"
        },
        "id": "oofJpsfNvO-I",
        "outputId": "07e5c266-1ddd-41de-e4d8-004b99f5aa48"
      },
      "execution_count": null,
      "outputs": [
        {
          "output_type": "stream",
          "name": "stdout",
          "text": [
            "Peter\n"
          ]
        }
      ]
    },
    {
      "cell_type": "markdown",
      "source": [
        "The difference between Arrays and Objects is the following:\n",
        "\n",
        "* In JavaScript, arrays use numbered indexes.  \n",
        "\n",
        "* In JavaScript, objects use named indexes."
      ],
      "metadata": {
        "id": "0CnuN61JuelD"
      }
    },
    {
      "cell_type": "markdown",
      "source": [
        "# Exercises"
      ],
      "metadata": {
        "id": "bTLsKKJmg5wX"
      }
    },
    {
      "cell_type": "markdown",
      "source": [
        "Add the neccesary code to change the last name of a person and add a new person at the end of the array of people:"
      ],
      "metadata": {
        "id": "guqC8PvFuwZA"
      }
    },
    {
      "cell_type": "code",
      "source": [
        "// We create an array with elements \"Banana\", \"Orange\" and \"Apple\"\n",
        "person1 = { firstName: \"John\", lastName: \"Doe\", age: 22 };\n",
        "person2 = { firstName: \"Peter\", lastName: \"Davis\", age: 31 };\n",
        "person3 = { firstName: \"George\", lastName: \"Williams\", age: 81 };\n",
        "person4 = { firstName: \"Lewis\", lastName: \"White\", age: 23 };\n",
        "person5 = { firstName: \"Patrick\", lastName: \"Hamilton\", age: 49 };\n",
        "\n",
        "people = [person1, person2, person3, person4, person5];\n",
        "\n",
        "// We can loop through the elements of the arrray \n",
        "// starting from the begining until we reach the last one\n",
        "for (i = 0; i < people.length; i++) {\n",
        "\n",
        "  // TODO: change the last name of Lewis to \"Red\"\n",
        "\n",
        "}\n",
        "\n",
        "// TODO: append a new person to the array with the name \"John\", last name \"Mars\" and age \"51\"\n",
        "\n",
        "// Check the results printing the contents of the array\n",
        "console.log(people)"
      ],
      "metadata": {
        "id": "yF5tfVgGg7YM",
        "colab": {
          "base_uri": "https://localhost:8080/"
        },
        "outputId": "4890ea38-2855-46f4-f7e6-4b7a612fedb3"
      },
      "execution_count": null,
      "outputs": [
        {
          "output_type": "stream",
          "name": "stdout",
          "text": [
            "[\n",
            "  { firstName: 'John', lastName: 'Doe', age: 22 },\n",
            "  { firstName: 'Peter', lastName: 'Davis', age: 31 },\n",
            "  { firstName: 'George', lastName: 'Williams', age: 81 },\n",
            "  { firstName: 'Lewis', lastName: 'White', age: 23 },\n",
            "  { firstName: 'Patrick', lastName: 'Hamilton', age: 49 }\n",
            "]\n"
          ]
        }
      ]
    }
  ]
}