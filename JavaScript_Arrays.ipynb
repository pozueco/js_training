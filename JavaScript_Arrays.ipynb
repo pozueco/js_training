{
  "nbformat": 4,
  "nbformat_minor": 0,
  "metadata": {
    "colab": {
      "name": "JavaScript - Arrays.ipynb",
      "provenance": [],
      "toc_visible": true,
      "include_colab_link": true
    },
    "kernelspec": {
      "name": "javascript",
      "display_name": "Javascript"
    },
    "accelerator": "GPU"
  },
  "cells": [
    {
      "cell_type": "markdown",
      "metadata": {
        "id": "view-in-github",
        "colab_type": "text"
      },
      "source": [
        "<a href=\"https://colab.research.google.com/github/pozueco/js_training/blob/main/JavaScript_Arrays.ipynb\" target=\"_parent\"><img src=\"https://colab.research.google.com/assets/colab-badge.svg\" alt=\"Open In Colab\"/></a>"
      ]
    },
    {
      "cell_type": "markdown",
      "source": [
        "In order to use this document, following the next steps:\n",
        "\n",
        "1. Click on File > Save a copy in Drive, to create your own version of the document\n",
        "2. Click to execute \"Preparation\""
      ],
      "metadata": {
        "id": "eVUsBbTLrShK"
      }
    },
    {
      "cell_type": "markdown",
      "source": [
        "![image.png](data:image/png;base64,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)"
      ],
      "metadata": {
        "id": "rq_8-tbCkKEC"
      }
    },
    {
      "cell_type": "markdown",
      "source": [
        "3. Reload the document \n",
        "4. Review the content after the JavaScript Arrays section \n",
        "5. Complete the exercises at the end of the document"
      ],
      "metadata": {
        "id": "q6YdB9V8kKNY"
      }
    },
    {
      "cell_type": "markdown",
      "source": [
        "# Preparation"
      ],
      "metadata": {
        "id": "ssXq19Zygkas"
      }
    },
    {
      "cell_type": "code",
      "metadata": {
        "id": "ZVkF16NwcMsZ",
        "colab": {
          "base_uri": "https://localhost:8080/"
        },
        "outputId": "4fbd1cb6-8739-4303-e8d9-88242c226114"
      },
      "source": [
        "#/* run this once, then reload, and then skip this\n",
        "!npm install -g --unsafe-perm ijavascript\n",
        "!ijsinstall --install=global  # as fake comment */"
      ],
      "execution_count": 5,
      "outputs": [
        {
          "output_type": "stream",
          "name": "stdout",
          "text": [
            "\u001b[K\u001b[?25h\u001b[37;40mnpm\u001b[0m \u001b[0m\u001b[30;43mWARN\u001b[0m \u001b[0m\u001b[35mdeprecated\u001b[0m uuid@3.4.0: Please upgrade  to version 7 or higher.  Older versions may use Math.random() in certain circumstances, which is known to be problematic.  See https://v8.dev/blog/math-random for details.\n",
            "\u001b[K\u001b[?25h/tools/node/bin/ijs -> /tools/node/lib/node_modules/ijavascript/bin/ijavascript.js\n",
            "/tools/node/bin/ijsconsole -> /tools/node/lib/node_modules/ijavascript/bin/ijsconsole.js\n",
            "/tools/node/bin/ijsinstall -> /tools/node/lib/node_modules/ijavascript/bin/ijsinstall.js\n",
            "/tools/node/bin/ijskernel -> /tools/node/lib/node_modules/ijavascript/lib/kernel.js\n",
            "/tools/node/bin/ijsnotebook -> /tools/node/lib/node_modules/ijavascript/bin/ijsnotebook.js\n",
            "\n",
            "> zeromq@5.3.1 install /tools/node/lib/node_modules/ijavascript/node_modules/zeromq\n",
            "> node-gyp-build || npm run build:libzmq\n",
            "\n",
            "make: Entering directory '/tools/node/lib/node_modules/ijavascript/node_modules/zeromq/build'\n",
            "  ACTION binding_gyp_libzmq_target_prepare_build zmq/BUILD_SUCCESS\n",
            "Building libzmq for linux\n",
            "build_libzmq.sh: Building version 4.2.2 for architecture x64\n",
            "checking for a BSD-compatible install... /usr/bin/install -c\n",
            "checking whether build environment is sane... yes\n",
            "checking for a thread-safe mkdir -p... /bin/mkdir -p\n",
            "checking for gawk... no\n",
            "checking for mawk... mawk\n",
            "checking whether make sets $(MAKE)... yes\n",
            "checking whether make supports nested variables... yes\n",
            "checking whether UID '0' is supported by ustar format... yes\n",
            "checking whether GID '0' is supported by ustar format... yes\n",
            "checking how to create a ustar tar archive... gnutar\n",
            "checking whether make supports nested variables... (cached) yes\n",
            "checking for gcc... gcc\n",
            "checking whether the C compiler works... yes\n",
            "checking for C compiler default output file name... a.out\n",
            "checking for suffix of executables... \n",
            "checking whether we are cross compiling... no\n",
            "checking for suffix of object files... o\n",
            "checking whether we are using the GNU C compiler... yes\n",
            "checking whether gcc accepts -g... yes\n",
            "checking for gcc option to accept ISO C89... none needed\n",
            "checking whether gcc understands -c and -o together... yes\n",
            "checking for style of include used by make... GNU\n",
            "checking dependency style of gcc... gcc3\n",
            "checking whether C compiler accepts -std=gnu11... yes\n",
            "checking for g++... g++\n",
            "checking whether we are using the GNU C++ compiler... yes\n",
            "checking whether g++ accepts -g... yes\n",
            "checking dependency style of g++... gcc3\n",
            "checking whether g++ supports C++11 features by default... yes\n",
            "checking for a sed that does not truncate output... /bin/sed\n",
            "checking whether to build with code coverage support... no\n",
            "checking for a sed that does not truncate output... (cached) /bin/sed\n",
            "checking for gawk... (cached) mawk\n",
            "checking for pkg-config... /usr/bin/pkg-config\n",
            "checking pkg-config is at least version 0.9.0... yes\n",
            "checking for xmlto... no\n",
            "checking for asciidoc... no\n",
            "checking build system type... x86_64-unknown-linux-gnu\n",
            "checking host system type... x86_64-unknown-linux-gnu\n",
            "checking how to print strings... printf\n",
            "checking for a sed that does not truncate output... (cached) /bin/sed\n",
            "checking for grep that handles long lines and -e... /bin/grep\n",
            "checking for egrep... /bin/grep -E\n",
            "checking for fgrep... /bin/grep -F\n",
            "checking for ld used by gcc... /usr/bin/ld\n",
            "checking if the linker (/usr/bin/ld) is GNU ld... yes\n",
            "checking for BSD- or MS-compatible name lister (nm)... /usr/bin/nm -B\n",
            "checking the name lister (/usr/bin/nm -B) interface... BSD nm\n",
            "checking whether ln -s works... yes\n",
            "checking the maximum length of command line arguments... 1572864\n",
            "checking whether the shell understands some XSI constructs... yes\n",
            "checking whether the shell understands \"+=\"... yes\n",
            "checking how to convert x86_64-unknown-linux-gnu file names to x86_64-unknown-linux-gnu format... func_convert_file_noop\n",
            "checking how to convert x86_64-unknown-linux-gnu file names to toolchain format... func_convert_file_noop\n",
            "checking for /usr/bin/ld option to reload object files... -r\n",
            "checking for objdump... objdump\n",
            "checking how to recognize dependent libraries... pass_all\n",
            "checking for dlltool... dlltool\n",
            "checking how to associate runtime and link libraries... printf %s\\n\n",
            "checking for ar... ar\n",
            "checking for archiver @FILE support... @\n",
            "checking for strip... strip\n",
            "checking for ranlib... ranlib\n",
            "checking command to parse /usr/bin/nm -B output from gcc object... ok\n",
            "checking for sysroot... no\n",
            "./configure: line 9818: /usr/bin/file: No such file or directory\n",
            "checking for mt... no\n",
            "checking if : is a manifest tool... no\n",
            "checking how to run the C preprocessor... gcc -E\n",
            "checking for ANSI C header files... yes\n",
            "checking for sys/types.h... yes\n",
            "checking for sys/stat.h... yes\n",
            "checking for stdlib.h... yes\n",
            "checking for string.h... yes\n",
            "checking for memory.h... yes\n",
            "checking for strings.h... yes\n",
            "checking for inttypes.h... yes\n",
            "checking for stdint.h... yes\n",
            "checking for unistd.h... yes\n",
            "checking for dlfcn.h... yes\n",
            "checking for objdir... .libs\n",
            "checking if gcc supports -fno-rtti -fno-exceptions... no\n",
            "checking for gcc option to produce PIC... -fPIC -DPIC\n",
            "checking if gcc PIC flag -fPIC -DPIC works... yes\n",
            "checking if gcc static flag -static works... yes\n",
            "checking if gcc supports -c -o file.o... yes\n",
            "checking if gcc supports -c -o file.o... (cached) yes\n",
            "checking whether the gcc linker (/usr/bin/ld) supports shared libraries... yes\n",
            "checking dynamic linker characteristics... GNU/Linux ld.so\n",
            "checking how to hardcode library paths into programs... immediate\n",
            "checking whether stripping libraries is possible... yes\n",
            "checking if libtool supports shared libraries... yes\n",
            "checking whether to build shared libraries... no\n",
            "checking whether to build static libraries... yes\n",
            "checking how to run the C++ preprocessor... g++ -E\n",
            "checking for ld used by g++... /usr/bin/ld\n",
            "checking if the linker (/usr/bin/ld) is GNU ld... yes\n",
            "checking whether the g++ linker (/usr/bin/ld) supports shared libraries... yes\n",
            "checking for g++ option to produce PIC... -fPIC -DPIC\n",
            "checking if g++ PIC flag -fPIC -DPIC works... yes\n",
            "checking if g++ static flag -static works... yes\n",
            "checking if g++ supports -c -o file.o... yes\n",
            "checking if g++ supports -c -o file.o... (cached) yes\n",
            "checking whether the g++ linker (/usr/bin/ld) supports shared libraries... yes\n",
            "checking dynamic linker characteristics... (cached) GNU/Linux ld.so\n",
            "checking how to hardcode library paths into programs... immediate\n",
            "checking for valgrind... no\n",
            "checking whether the C compiler works... yes\n",
            "checking whether we are using Intel C compiler... no\n",
            "checking whether we are using Sun Studio C compiler... no\n",
            "checking whether we are using clang C compiler... no\n",
            "checking whether we are using gcc >= 4 C compiler... yes\n",
            "checking whether the C++ compiler works... yes\n",
            "checking whether we are using Intel C++ compiler... no\n",
            "checking whether we are using Sun Studio C++ compiler... no\n",
            "checking whether we are using clang C++ compiler... no\n",
            "checking whether we are using gcc >= 4 C++ compiler... yes\n",
            "checking whether to enable debugging information... no\n",
            "checking whether to enable code coverage... no\n",
            "checking if TIPC is available and supports nonblocking connect... no\n",
            "checking for library containing dladdr... -ldl\n",
            "checking for pthread_create in -lpthread... yes\n",
            "checking for clock_gettime in -lrt... yes\n",
            "checking whether C++ compiler supports -fvisibility=hidden... yes\n",
            "checking whether C++ compiler supports dso visibility... yes\n",
            "checking whether to build documentation... no\n",
            "checking whether to install manpages... no\n",
            "configure: Choosing polling system from 'kqueue epoll devpoll pollset poll select'...\n",
            "configure: Using 'epoll' polling system with CLOEXEC\n",
            "checking for ANSI C header files... (cached) yes\n",
            "checking errno.h usability... yes\n",
            "checking errno.h presence... yes\n",
            "checking for errno.h... yes\n",
            "checking time.h usability... yes\n",
            "checking time.h presence... yes\n",
            "checking for time.h... yes\n",
            "checking for unistd.h... (cached) yes\n",
            "checking limits.h usability... yes\n",
            "checking limits.h presence... yes\n",
            "checking for limits.h... yes\n",
            "checking stddef.h usability... yes\n",
            "checking stddef.h presence... yes\n",
            "checking for stddef.h... yes\n",
            "checking for stdlib.h... (cached) yes\n",
            "checking for string.h... (cached) yes\n",
            "checking arpa/inet.h usability... yes\n",
            "checking arpa/inet.h presence... yes\n",
            "checking for arpa/inet.h... yes\n",
            "checking netinet/tcp.h usability... yes\n",
            "checking netinet/tcp.h presence... yes\n",
            "checking for netinet/tcp.h... yes\n",
            "checking netinet/in.h usability... yes\n",
            "checking netinet/in.h presence... yes\n",
            "checking for netinet/in.h... yes\n",
            "checking sys/socket.h usability... yes\n",
            "checking sys/socket.h presence... yes\n",
            "checking for sys/socket.h... yes\n",
            "checking sys/time.h usability... yes\n",
            "checking sys/time.h presence... yes\n",
            "checking for sys/time.h... yes\n",
            "checking ifaddrs.h usability... yes\n",
            "checking ifaddrs.h presence... yes\n",
            "checking for ifaddrs.h... yes\n",
            "checking sys/uio.h usability... yes\n",
            "checking sys/uio.h presence... yes\n",
            "checking for sys/uio.h... yes\n",
            "checking sys/eventfd.h usability... yes\n",
            "checking sys/eventfd.h presence... yes\n",
            "checking for sys/eventfd.h... yes\n",
            "checking whether EFD_CLOEXEC is supported... yes\n",
            "checking whether SO_PEERCRED is declared... yes\n",
            "checking whether LOCAL_PEERCRED is declared... no\n",
            "checking for stdbool.h that conforms to C99... no\n",
            "checking for _Bool... no\n",
            "checking for an ANSI C-conforming const... yes\n",
            "checking for inline... inline\n",
            "checking for size_t... yes\n",
            "checking for ssize_t... yes\n",
            "checking whether time.h and sys/time.h may both be included... yes\n",
            "checking for uint32_t... yes\n",
            "checking for working volatile... yes\n",
            "configure: Using tweetnacl for CURVE security\n",
            "checking \"with_norm_ext = no\"... no\n",
            "checking how to enable additional warnings for C++ compiler... -Wall\n",
            "checking how to turn warnings to errors in C++ compiler... -Werror\n",
            "checking whether compiler supports __atomic_Xxx intrinsics... yes\n",
            "checking return type of signal handlers... void\n",
            "checking for perror... yes\n",
            "checking for gettimeofday... yes\n",
            "checking for clock_gettime... yes\n",
            "checking for memset... no\n",
            "checking for socket... yes\n",
            "checking for getifaddrs... yes\n",
            "checking for freeifaddrs... yes\n",
            "checking for fork... no\n",
            "checking for posix_memalign... no\n",
            "checking for mkdtemp... yes\n",
            "checking alloca.h usability... yes\n",
            "checking alloca.h presence... yes\n",
            "checking for alloca.h... yes\n",
            "checking whether SOCK_CLOEXEC is supported... yes\n",
            "checking whether SO_KEEPALIVE is supported... yes\n",
            "checking whether TCP_KEEPCNT is supported... yes\n",
            "checking whether TCP_KEEPIDLE is supported... yes\n",
            "checking whether TCP_KEEPINTVL is supported... yes\n",
            "checking whether TCP_KEEPALIVE is supported... no\n",
            "checking for ./.git... no\n",
            "configure: Building stable and legacy API (no draft API)\n",
            "checking for LIBUNWIND... no\n",
            "configure: WARNING: Cannot find libunwind\n",
            "checking that generated files are newer than configure... done\n",
            "configure: creating ./config.status\n",
            "config.status: creating Makefile\n",
            "config.status: creating src/libzmq.pc\n",
            "config.status: creating doc/Makefile\n",
            "config.status: creating builds/Makefile\n",
            "config.status: creating builds/msvc/Makefile\n",
            "config.status: creating src/platform.hpp\n",
            "config.status: executing depfiles commands\n",
            "config.status: executing libtool commands\n",
            "make[1]: Entering directory '/tools/node/lib/node_modules/ijavascript/node_modules/zeromq/zmq/zeromq-4.2.2'\n",
            "Making all in doc\n",
            "make[2]: Entering directory '/tools/node/lib/node_modules/ijavascript/node_modules/zeromq/zmq/zeromq-4.2.2/doc'\n",
            "make[2]: Nothing to be done for 'all'.\n",
            "make[2]: Leaving directory '/tools/node/lib/node_modules/ijavascript/node_modules/zeromq/zmq/zeromq-4.2.2/doc'\n",
            "make[2]: Entering directory '/tools/node/lib/node_modules/ijavascript/node_modules/zeromq/zmq/zeromq-4.2.2'\n",
            "  CXX      src/src_libzmq_la-address.lo\n",
            "  CXX      src/src_libzmq_la-client.lo\n",
            "  CXX      src/src_libzmq_la-clock.lo\n",
            "  CXX      src/src_libzmq_la-ctx.lo\n",
            "  CXX      src/src_libzmq_la-curve_client.lo\n",
            "  CXX      src/src_libzmq_la-curve_server.lo\n",
            "  CXX      src/src_libzmq_la-dealer.lo\n",
            "  CXX      src/src_libzmq_la-devpoll.lo\n",
            "  CXX      src/src_libzmq_la-dgram.lo\n",
            "  CXX      src/src_libzmq_la-dish.lo\n",
            "  CXX      src/src_libzmq_la-dist.lo\n",
            "  CXX      src/src_libzmq_la-epoll.lo\n",
            "  CXX      src/src_libzmq_la-err.lo\n",
            "  CXX      src/src_libzmq_la-fq.lo\n",
            "  CXX      src/src_libzmq_la-gather.lo\n",
            "  CXX      src/src_libzmq_la-gssapi_mechanism_base.lo\n",
            "  CXX      src/src_libzmq_la-gssapi_client.lo\n",
            "  CXX      src/src_libzmq_la-gssapi_server.lo\n",
            "  CXX      src/src_libzmq_la-io_object.lo\n",
            "  CXX      src/src_libzmq_la-io_thread.lo\n",
            "  CXX      src/src_libzmq_la-ip.lo\n",
            "  CXX      src/src_libzmq_la-ipc_address.lo\n",
            "  CXX      src/src_libzmq_la-ipc_connecter.lo\n",
            "  CXX      src/src_libzmq_la-ipc_listener.lo\n",
            "  CXX      src/src_libzmq_la-kqueue.lo\n",
            "  CXX      src/src_libzmq_la-lb.lo\n",
            "  CXX      src/src_libzmq_la-mailbox.lo\n",
            "  CXX      src/src_libzmq_la-mailbox_safe.lo\n",
            "  CXX      src/src_libzmq_la-mechanism.lo\n",
            "  CXX      src/src_libzmq_la-metadata.lo\n",
            "  CXX      src/src_libzmq_la-msg.lo\n",
            "  CXX      src/src_libzmq_la-mtrie.lo\n",
            "  CXX      src/src_libzmq_la-norm_engine.lo\n",
            "  CXX      src/src_libzmq_la-null_mechanism.lo\n",
            "  CXX      src/src_libzmq_la-object.lo\n",
            "  CXX      src/src_libzmq_la-options.lo\n",
            "  CXX      src/src_libzmq_la-own.lo\n",
            "  CXX      src/src_libzmq_la-pair.lo\n",
            "  CXX      src/src_libzmq_la-pgm_receiver.lo\n",
            "  CXX      src/src_libzmq_la-pgm_sender.lo\n",
            "  CXX      src/src_libzmq_la-pgm_socket.lo\n",
            "  CXX      src/src_libzmq_la-pipe.lo\n",
            "  CXX      src/src_libzmq_la-plain_client.lo\n",
            "  CXX      src/src_libzmq_la-plain_server.lo\n",
            "  CXX      src/src_libzmq_la-poll.lo\n",
            "  CXX      src/src_libzmq_la-poller_base.lo\n",
            "  CXX      src/src_libzmq_la-pollset.lo\n",
            "  CXX      src/src_libzmq_la-precompiled.lo\n",
            "  CXX      src/src_libzmq_la-proxy.lo\n",
            "  CXX      src/src_libzmq_la-pub.lo\n",
            "  CXX      src/src_libzmq_la-pull.lo\n",
            "  CXX      src/src_libzmq_la-push.lo\n",
            "  CXX      src/src_libzmq_la-radio.lo\n",
            "  CXX      src/src_libzmq_la-random.lo\n",
            "  CXX      src/src_libzmq_la-raw_decoder.lo\n",
            "  CXX      src/src_libzmq_la-raw_encoder.lo\n",
            "  CXX      src/src_libzmq_la-reaper.lo\n",
            "  CXX      src/src_libzmq_la-rep.lo\n",
            "  CXX      src/src_libzmq_la-req.lo\n",
            "  CXX      src/src_libzmq_la-router.lo\n",
            "  CXX      src/src_libzmq_la-scatter.lo\n",
            "  CXX      src/src_libzmq_la-select.lo\n",
            "  CXX      src/src_libzmq_la-server.lo\n",
            "  CXX      src/src_libzmq_la-session_base.lo\n",
            "  CXX      src/src_libzmq_la-signaler.lo\n",
            "  CXX      src/src_libzmq_la-socket_base.lo\n",
            "  CXX      src/src_libzmq_la-socks.lo\n",
            "  CXX      src/src_libzmq_la-socks_connecter.lo\n",
            "  CXX      src/src_libzmq_la-stream.lo\n",
            "  CXX      src/src_libzmq_la-stream_engine.lo\n",
            "  CXX      src/src_libzmq_la-sub.lo\n",
            "  CXX      src/src_libzmq_la-tcp.lo\n",
            "  CXX      src/src_libzmq_la-tcp_address.lo\n",
            "  CXX      src/src_libzmq_la-tcp_connecter.lo\n",
            "  CXX      src/src_libzmq_la-tcp_listener.lo\n",
            "  CXX      src/src_libzmq_la-thread.lo\n",
            "  CXX      src/src_libzmq_la-timers.lo\n",
            "  CXX      src/src_libzmq_la-tipc_address.lo\n",
            "  CXX      src/src_libzmq_la-tipc_connecter.lo\n",
            "  CXX      src/src_libzmq_la-tipc_listener.lo\n",
            "  CXX      src/src_libzmq_la-trie.lo\n",
            "  CXX      src/src_libzmq_la-udp_address.lo\n",
            "  CXX      src/src_libzmq_la-udp_engine.lo\n",
            "  CXX      src/src_libzmq_la-v1_decoder.lo\n",
            "  CXX      src/src_libzmq_la-v2_decoder.lo\n",
            "  CXX      src/src_libzmq_la-v1_encoder.lo\n",
            "  CXX      src/src_libzmq_la-v2_encoder.lo\n",
            "  CXX      src/src_libzmq_la-vmci.lo\n",
            "  CXX      src/src_libzmq_la-vmci_address.lo\n",
            "  CXX      src/src_libzmq_la-vmci_connecter.lo\n",
            "  CXX      src/src_libzmq_la-vmci_listener.lo\n",
            "  CXX      src/src_libzmq_la-xpub.lo\n",
            "  CXX      src/src_libzmq_la-xsub.lo\n",
            "  CXX      src/src_libzmq_la-zmq.lo\n",
            "  CXX      src/src_libzmq_la-zmq_utils.lo\n",
            "  CXX      src/src_libzmq_la-decoder_allocators.lo\n",
            "  CXX      src/src_libzmq_la-socket_poller.lo\n",
            "  CC       src/src_libzmq_la-tweetnacl.lo\n",
            "  CXX      tools/curve_keygen.o\n",
            "  CXX      perf/local_lat.o\n",
            "  CXX      perf/remote_lat.o\n",
            "  CXX      perf/local_thr.o\n",
            "  CXX      perf/remote_thr.o\n",
            "  CXX      perf/inproc_lat.o\n",
            "  CXX      perf/inproc_thr.o\n",
            "  CXXLD    src/libzmq.la\n",
            "ar: `u' modifier ignored since `D' is the default (see `U')\n",
            "  CXXLD    tools/curve_keygen\n",
            "  CXXLD    perf/local_lat\n",
            "  CXXLD    perf/remote_lat\n",
            "  CXXLD    perf/local_thr\n",
            "  CXXLD    perf/remote_thr\n",
            "  CXXLD    perf/inproc_lat\n",
            "  CXXLD    perf/inproc_thr\n",
            "make[2]: Leaving directory '/tools/node/lib/node_modules/ijavascript/node_modules/zeromq/zmq/zeromq-4.2.2'\n",
            "make[1]: Leaving directory '/tools/node/lib/node_modules/ijavascript/node_modules/zeromq/zmq/zeromq-4.2.2'\n",
            "make[1]: Entering directory '/tools/node/lib/node_modules/ijavascript/node_modules/zeromq/zmq/zeromq-4.2.2'\n",
            "Making install in doc\n",
            "make[2]: Entering directory '/tools/node/lib/node_modules/ijavascript/node_modules/zeromq/zmq/zeromq-4.2.2/doc'\n",
            "make[3]: Entering directory '/tools/node/lib/node_modules/ijavascript/node_modules/zeromq/zmq/zeromq-4.2.2/doc'\n",
            "make[3]: Nothing to be done for 'install-exec-am'.\n",
            "make[3]: Leaving directory '/tools/node/lib/node_modules/ijavascript/node_modules/zeromq/zmq/zeromq-4.2.2/doc'\n",
            "make[2]: Leaving directory '/tools/node/lib/node_modules/ijavascript/node_modules/zeromq/zmq/zeromq-4.2.2/doc'\n",
            "make[2]: Entering directory '/tools/node/lib/node_modules/ijavascript/node_modules/zeromq/zmq/zeromq-4.2.2'\n",
            "make[3]: Entering directory '/tools/node/lib/node_modules/ijavascript/node_modules/zeromq/zmq/zeromq-4.2.2'\n",
            " /bin/mkdir -p '/tools/node/lib/node_modules/ijavascript/node_modules/zeromq/zmq/lib'\n",
            " /bin/bash ./libtool   --mode=install /usr/bin/install -c   src/libzmq.la '/tools/node/lib/node_modules/ijavascript/node_modules/zeromq/zmq/lib'\n",
            "libtool: install: /usr/bin/install -c src/.libs/libzmq.lai /tools/node/lib/node_modules/ijavascript/node_modules/zeromq/zmq/lib/libzmq.la\n",
            "libtool: install: /usr/bin/install -c src/.libs/libzmq.a /tools/node/lib/node_modules/ijavascript/node_modules/zeromq/zmq/lib/libzmq.a\n",
            "libtool: install: chmod 644 /tools/node/lib/node_modules/ijavascript/node_modules/zeromq/zmq/lib/libzmq.a\n",
            "libtool: install: ranlib /tools/node/lib/node_modules/ijavascript/node_modules/zeromq/zmq/lib/libzmq.a\n",
            "libtool: finish: PATH=\"/tools/node/lib/node_modules/npm/node_modules/npm-lifecycle/node-gyp-bin:/tools/node/lib/node_modules/ijavascript/node_modules/zeromq/node_modules/.bin:/tools/node/lib/node_modules/ijavascript/node_modules/.bin:/tools/node/lib/node_modules/.bin:/opt/bin:/usr/local/nvidia/bin:/usr/local/cuda/bin:/usr/local/sbin:/usr/local/bin:/usr/sbin:/usr/bin:/sbin:/bin:/tools/node/bin:/tools/google-cloud-sdk/bin:/sbin\" ldconfig -n /tools/node/lib/node_modules/ijavascript/node_modules/zeromq/zmq/lib\n",
            "----------------------------------------------------------------------\n",
            "Libraries have been installed in:\n",
            "   /tools/node/lib/node_modules/ijavascript/node_modules/zeromq/zmq/lib\n",
            "\n",
            "If you ever happen to want to link against installed libraries\n",
            "in a given directory, LIBDIR, you must either use libtool, and\n",
            "specify the full pathname of the library, or use the `-LLIBDIR'\n",
            "flag during linking and do at least one of the following:\n",
            "   - add LIBDIR to the `LD_LIBRARY_PATH' environment variable\n",
            "     during execution\n",
            "   - add LIBDIR to the `LD_RUN_PATH' environment variable\n",
            "     during linking\n",
            "   - use the `-Wl,-rpath -Wl,LIBDIR' linker flag\n",
            "   - have your system administrator add LIBDIR to `/etc/ld.so.conf'\n",
            "\n",
            "See any operating system documentation about shared libraries for\n",
            "more information, such as the ld(1) and ld.so(8) manual pages.\n",
            "----------------------------------------------------------------------\n",
            " /bin/mkdir -p '/tools/node/lib/node_modules/ijavascript/node_modules/zeromq/zmq/bin'\n",
            "  /bin/bash ./libtool   --mode=install /usr/bin/install -c tools/curve_keygen '/tools/node/lib/node_modules/ijavascript/node_modules/zeromq/zmq/bin'\n",
            "libtool: install: /usr/bin/install -c tools/curve_keygen /tools/node/lib/node_modules/ijavascript/node_modules/zeromq/zmq/bin/curve_keygen\n",
            " /bin/mkdir -p '/tools/node/lib/node_modules/ijavascript/node_modules/zeromq/zmq/include'\n",
            " /usr/bin/install -c -m 644 include/zmq.h include/zmq_utils.h '/tools/node/lib/node_modules/ijavascript/node_modules/zeromq/zmq/include'\n",
            " /bin/mkdir -p '/tools/node/lib/node_modules/ijavascript/node_modules/zeromq/zmq/lib/pkgconfig'\n",
            " /usr/bin/install -c -m 644 src/libzmq.pc '/tools/node/lib/node_modules/ijavascript/node_modules/zeromq/zmq/lib/pkgconfig'\n",
            "make[3]: Leaving directory '/tools/node/lib/node_modules/ijavascript/node_modules/zeromq/zmq/zeromq-4.2.2'\n",
            "make[2]: Leaving directory '/tools/node/lib/node_modules/ijavascript/node_modules/zeromq/zmq/zeromq-4.2.2'\n",
            "make[1]: Leaving directory '/tools/node/lib/node_modules/ijavascript/node_modules/zeromq/zmq/zeromq-4.2.2'\n",
            "child process exited with code 0\n",
            "  TOUCH Release/obj.target/libzmq.stamp\n",
            "  CXX(target) Release/obj.target/zmq/binding.o\n",
            "\u001b[01m\u001b[K../binding.cc:\u001b[m\u001b[K In member function ‘\u001b[01m\u001b[Kvoid zmq::Socket::NotifyReadReady()\u001b[m\u001b[K’:\n",
            "\u001b[01m\u001b[K../binding.cc:399:73:\u001b[m\u001b[K \u001b[01;35m\u001b[Kwarning: \u001b[m\u001b[K‘\u001b[01m\u001b[Kv8::Local<v8::Value> Nan::MakeCallback(v8::Local<v8::Object>, v8::Local<v8::Function>, int, v8::Local<v8::Value>*)\u001b[m\u001b[K’ is deprecated [\u001b[01;35m\u001b[K-Wdeprecated-declarations\u001b[m\u001b[K]\n",
            "     Nan::MakeCallback(this->handle(), callback_v.As<Function>(), 0, NULL\u001b[01;35m\u001b[K)\u001b[m\u001b[K;\n",
            "                                                                         \u001b[01;35m\u001b[K^\u001b[m\u001b[K\n",
            "In file included from \u001b[01m\u001b[K../binding.cc:40:0\u001b[m\u001b[K:\n",
            "\u001b[01m\u001b[K../../nan/nan.h:1030:46:\u001b[m\u001b[K \u001b[01;36m\u001b[Knote: \u001b[m\u001b[Kdeclared here\n",
            "   NAN_DEPRECATED inline v8::Local<v8::Value> \u001b[01;36m\u001b[KMakeCallback\u001b[m\u001b[K(\n",
            "                                              \u001b[01;36m\u001b[K^~~~~~~~~~~~\u001b[m\u001b[K\n",
            "\u001b[01m\u001b[K../binding.cc:\u001b[m\u001b[K In member function ‘\u001b[01m\u001b[Kvoid zmq::Socket::NotifySendReady()\u001b[m\u001b[K’:\n",
            "\u001b[01m\u001b[K../binding.cc:407:73:\u001b[m\u001b[K \u001b[01;35m\u001b[Kwarning: \u001b[m\u001b[K‘\u001b[01m\u001b[Kv8::Local<v8::Value> Nan::MakeCallback(v8::Local<v8::Object>, v8::Local<v8::Function>, int, v8::Local<v8::Value>*)\u001b[m\u001b[K’ is deprecated [\u001b[01;35m\u001b[K-Wdeprecated-declarations\u001b[m\u001b[K]\n",
            "     Nan::MakeCallback(this->handle(), callback_v.As<Function>(), 0, NULL\u001b[01;35m\u001b[K)\u001b[m\u001b[K;\n",
            "                                                                         \u001b[01;35m\u001b[K^\u001b[m\u001b[K\n",
            "In file included from \u001b[01m\u001b[K../binding.cc:40:0\u001b[m\u001b[K:\n",
            "\u001b[01m\u001b[K../../nan/nan.h:1030:46:\u001b[m\u001b[K \u001b[01;36m\u001b[Knote: \u001b[m\u001b[Kdeclared here\n",
            "   NAN_DEPRECATED inline v8::Local<v8::Value> \u001b[01;36m\u001b[KMakeCallback\u001b[m\u001b[K(\n",
            "                                              \u001b[01;36m\u001b[K^~~~~~~~~~~~\u001b[m\u001b[K\n",
            "\u001b[01m\u001b[K../binding.cc:\u001b[m\u001b[K In member function ‘\u001b[01m\u001b[Kvoid zmq::Socket::MonitorEvent(uint16_t, int32_t, char*)\u001b[m\u001b[K’:\n",
            "\u001b[01m\u001b[K../binding.cc:458:73:\u001b[m\u001b[K \u001b[01;35m\u001b[Kwarning: \u001b[m\u001b[K‘\u001b[01m\u001b[Kv8::Local<v8::Value> Nan::MakeCallback(v8::Local<v8::Object>, v8::Local<v8::Function>, int, v8::Local<v8::Value>*)\u001b[m\u001b[K’ is deprecated [\u001b[01;35m\u001b[K-Wdeprecated-declarations\u001b[m\u001b[K]\n",
            "     Nan::MakeCallback(this->handle(), callback_v.As<Function>(), 4, argv\u001b[01;35m\u001b[K)\u001b[m\u001b[K;\n",
            "                                                                         \u001b[01;35m\u001b[K^\u001b[m\u001b[K\n",
            "In file included from \u001b[01m\u001b[K../binding.cc:40:0\u001b[m\u001b[K:\n",
            "\u001b[01m\u001b[K../../nan/nan.h:1030:46:\u001b[m\u001b[K \u001b[01;36m\u001b[Knote: \u001b[m\u001b[Kdeclared here\n",
            "   NAN_DEPRECATED inline v8::Local<v8::Value> \u001b[01;36m\u001b[KMakeCallback\u001b[m\u001b[K(\n",
            "                                              \u001b[01;36m\u001b[K^~~~~~~~~~~~\u001b[m\u001b[K\n",
            "\u001b[01m\u001b[K../binding.cc:\u001b[m\u001b[K In member function ‘\u001b[01m\u001b[Kvoid zmq::Socket::MonitorError(const char*)\u001b[m\u001b[K’:\n",
            "\u001b[01m\u001b[K../binding.cc:473:73:\u001b[m\u001b[K \u001b[01;35m\u001b[Kwarning: \u001b[m\u001b[K‘\u001b[01m\u001b[Kv8::Local<v8::Value> Nan::MakeCallback(v8::Local<v8::Object>, v8::Local<v8::Function>, int, v8::Local<v8::Value>*)\u001b[m\u001b[K’ is deprecated [\u001b[01;35m\u001b[K-Wdeprecated-declarations\u001b[m\u001b[K]\n",
            "     Nan::MakeCallback(this->handle(), callback_v.As<Function>(), 1, argv\u001b[01;35m\u001b[K)\u001b[m\u001b[K;\n",
            "                                                                         \u001b[01;35m\u001b[K^\u001b[m\u001b[K\n",
            "In file included from \u001b[01m\u001b[K../binding.cc:40:0\u001b[m\u001b[K:\n",
            "\u001b[01m\u001b[K../../nan/nan.h:1030:46:\u001b[m\u001b[K \u001b[01;36m\u001b[Knote: \u001b[m\u001b[Kdeclared here\n",
            "   NAN_DEPRECATED inline v8::Local<v8::Value> \u001b[01;36m\u001b[KMakeCallback\u001b[m\u001b[K(\n",
            "                                              \u001b[01;36m\u001b[K^~~~~~~~~~~~\u001b[m\u001b[K\n",
            "\u001b[01m\u001b[K../binding.cc:\u001b[m\u001b[K In static member function ‘\u001b[01m\u001b[Kstatic void zmq::Socket::UV_BindAsyncAfter(uv_work_t*)\u001b[m\u001b[K’:\n",
            "\u001b[01m\u001b[K../binding.cc:814:70:\u001b[m\u001b[K \u001b[01;35m\u001b[Kwarning: \u001b[m\u001b[K‘\u001b[01m\u001b[Kv8::Local<v8::Value> Nan::MakeCallback(v8::Local<v8::Object>, v8::Local<v8::Function>, int, v8::Local<v8::Value>*)\u001b[m\u001b[K’ is deprecated [\u001b[01;35m\u001b[K-Wdeprecated-declarations\u001b[m\u001b[K]\n",
            "     Nan::MakeCallback(Nan::GetCurrentContext()->Global(), cb, 1, argv\u001b[01;35m\u001b[K)\u001b[m\u001b[K;\n",
            "                                                                      \u001b[01;35m\u001b[K^\u001b[m\u001b[K\n",
            "In file included from \u001b[01m\u001b[K../binding.cc:40:0\u001b[m\u001b[K:\n",
            "\u001b[01m\u001b[K../../nan/nan.h:1030:46:\u001b[m\u001b[K \u001b[01;36m\u001b[Knote: \u001b[m\u001b[Kdeclared here\n",
            "   NAN_DEPRECATED inline v8::Local<v8::Value> \u001b[01;36m\u001b[KMakeCallback\u001b[m\u001b[K(\n",
            "                                              \u001b[01;36m\u001b[K^~~~~~~~~~~~\u001b[m\u001b[K\n",
            "\u001b[01m\u001b[K../binding.cc:\u001b[m\u001b[K In static member function ‘\u001b[01m\u001b[Kstatic void zmq::Socket::UV_UnbindAsyncAfter(uv_work_t*)\u001b[m\u001b[K’:\n",
            "\u001b[01m\u001b[K../binding.cc:893:70:\u001b[m\u001b[K \u001b[01;35m\u001b[Kwarning: \u001b[m\u001b[K‘\u001b[01m\u001b[Kv8::Local<v8::Value> Nan::MakeCallback(v8::Local<v8::Object>, v8::Local<v8::Function>, int, v8::Local<v8::Value>*)\u001b[m\u001b[K’ is deprecated [\u001b[01;35m\u001b[K-Wdeprecated-declarations\u001b[m\u001b[K]\n",
            "     Nan::MakeCallback(Nan::GetCurrentContext()->Global(), cb, 1, argv\u001b[01;35m\u001b[K)\u001b[m\u001b[K;\n",
            "                                                                      \u001b[01;35m\u001b[K^\u001b[m\u001b[K\n",
            "In file included from \u001b[01m\u001b[K../binding.cc:40:0\u001b[m\u001b[K:\n",
            "\u001b[01m\u001b[K../../nan/nan.h:1030:46:\u001b[m\u001b[K \u001b[01;36m\u001b[Knote: \u001b[m\u001b[Kdeclared here\n",
            "   NAN_DEPRECATED inline v8::Local<v8::Value> \u001b[01;36m\u001b[KMakeCallback\u001b[m\u001b[K(\n",
            "                                              \u001b[01;36m\u001b[K^~~~~~~~~~~~\u001b[m\u001b[K\n",
            "  SOLINK_MODULE(target) Release/obj.target/zmq.node\n",
            "  COPY Release/zmq.node\n",
            "make: Leaving directory '/tools/node/lib/node_modules/ijavascript/node_modules/zeromq/build'\n",
            "+ ijavascript@5.2.1\n",
            "added 8 packages from 31 contributors in 47.206s\n"
          ]
        }
      ]
    },
    {
      "cell_type": "markdown",
      "source": [
        "# JavaScript Arrays"
      ],
      "metadata": {
        "id": "cegH4fyoglM8"
      }
    },
    {
      "cell_type": "markdown",
      "source": [
        "An array is a special variable, which can hold more than one value. The easiest way to create a JavaScript Array is by using array literals:"
      ],
      "metadata": {
        "id": "7K7LPxMKi9Hl"
      }
    },
    {
      "cell_type": "code",
      "metadata": {
        "id": "skqAs_UHc8_P",
        "colab": {
          "base_uri": "https://localhost:8080/",
          "height": 131
        },
        "outputId": "7cdcc3a8-a3c6-4575-c35d-65eab44e1159"
      },
      "source": [
        "// We create an array with the elements \"Saab\", \"Volvo\" and \"BMW\"\n",
        "cars = [\"Saab\", \"Volvo\", \"BMW\"];"
      ],
      "execution_count": 6,
      "outputs": [
        {
          "output_type": "error",
          "ename": "SyntaxError",
          "evalue": "ignored",
          "traceback": [
            "\u001b[0;36m  File \u001b[0;32m\"<ipython-input-6-f587d8f7172f>\"\u001b[0;36m, line \u001b[0;32m1\u001b[0m\n\u001b[0;31m    // We create an array with the elements \"Saab\", \"Volvo\" and \"BMW\"\u001b[0m\n\u001b[0m     ^\u001b[0m\n\u001b[0;31mSyntaxError\u001b[0m\u001b[0;31m:\u001b[0m invalid syntax\n"
          ]
        }
      ]
    },
    {
      "cell_type": "markdown",
      "source": [
        "You access an array element by referring to the index number, where 0 is always the first element:"
      ],
      "metadata": {
        "id": "D-tRDtwejaVC"
      }
    },
    {
      "cell_type": "code",
      "source": [
        "// We can access the first element using the index 0\n",
        "car = cars[0];\n",
        "\n",
        "// We print the contents of the array\n",
        "console.log(car)"
      ],
      "metadata": {
        "colab": {
          "base_uri": "https://localhost:8080/",
          "height": 131
        },
        "id": "5sPI54D5jaeM",
        "outputId": "38795add-cb57-47bb-97d1-19ff472eca42"
      },
      "execution_count": 4,
      "outputs": [
        {
          "output_type": "error",
          "ename": "SyntaxError",
          "evalue": "ignored",
          "traceback": [
            "\u001b[0;36m  File \u001b[0;32m\"<ipython-input-4-45f542117ba5>\"\u001b[0;36m, line \u001b[0;32m1\u001b[0m\n\u001b[0;31m    // We can access the first element using the index 0\u001b[0m\n\u001b[0m     ^\u001b[0m\n\u001b[0;31mSyntaxError\u001b[0m\u001b[0;31m:\u001b[0m invalid syntax\n"
          ]
        }
      ]
    },
    {
      "cell_type": "markdown",
      "source": [
        "Using the following statement can change the value of a specific element in an array:"
      ],
      "metadata": {
        "id": "42czdwoPk9tC"
      }
    },
    {
      "cell_type": "code",
      "source": [
        "// We can change the first element of the array using the following statement\n",
        "cars[0] = \"Opel\";\n",
        "\n",
        "// We print the contents of the array\n",
        "console.log(cars)"
      ],
      "metadata": {
        "colab": {
          "base_uri": "https://localhost:8080/"
        },
        "id": "UyMgFxJkk95V",
        "outputId": "0f0b2869-22ea-4dc3-961f-9137358a394b"
      },
      "execution_count": null,
      "outputs": [
        {
          "output_type": "stream",
          "name": "stdout",
          "text": [
            "[ 'Opel', 'Volvo', 'BMW' ]\n"
          ]
        }
      ]
    },
    {
      "cell_type": "markdown",
      "source": [
        "# Looping through Arrays"
      ],
      "metadata": {
        "id": "PLd3WVVGsHgN"
      }
    },
    {
      "cell_type": "markdown",
      "source": [
        "The real strength of JavaScript arrays are the built-in array properties and methods:"
      ],
      "metadata": {
        "id": "ddSyu0ikk_VB"
      }
    },
    {
      "cell_type": "code",
      "source": [
        "// In order to get the length of an array, we can use the following property\n",
        "cars.length"
      ],
      "metadata": {
        "colab": {
          "base_uri": "https://localhost:8080/"
        },
        "id": "_XgHd9Omk_dF",
        "outputId": "37c5e4ee-5665-41c4-a836-9f4e1900e60d"
      },
      "execution_count": null,
      "outputs": [
        {
          "output_type": "execute_result",
          "data": {
            "text/plain": [
              "3"
            ]
          },
          "metadata": {},
          "execution_count": 9
        }
      ]
    },
    {
      "cell_type": "markdown",
      "source": [
        "One way to loop through an array, is using a *for* loop using the following syntax:\n",
        "\n",
        "    for (<initialization>;<condition>;<increment>) {\n",
        "\n",
        "        <actions>\n",
        "\n",
        "    }\n",
        "\n",
        "When the loop executes, the following actions happen:\n",
        "\n",
        "* The **initializing** expression is executed and initializes the loop counters.\n",
        "* The **condition** expression is evaluated and if the value is true, the loop statements execute. Otherwise, the for loop terminates.\n",
        "* The **increment** is executed to continue with the next loop."
      ],
      "metadata": {
        "id": "rlejeQKDl55B"
      }
    },
    {
      "cell_type": "markdown",
      "source": [
        "The following code prints all the elements of an array, starting from the first one of them:"
      ],
      "metadata": {
        "id": "CrwodcU-rF3s"
      }
    },
    {
      "cell_type": "code",
      "source": [
        "// We create an array with elements \"Banana\", \"Orange\" and \"Apple\"\n",
        "fruits = [\"Banana\", \"Orange\", \"Apple\", \"Mango\"];\n",
        "\n",
        "// We can loop through the elements of the arrray \n",
        "// starting from the begining until we reach the last one\n",
        "for (i = 0; i < fruits.length; i++) {\n",
        "\n",
        "  // We can print the current element of the array\n",
        "  console.log(\"Element \" + i + \" : \" + fruits[i]);\n",
        "\n",
        "}"
      ],
      "metadata": {
        "id": "SQwLbDy9l6A8",
        "colab": {
          "base_uri": "https://localhost:8080/"
        },
        "outputId": "d8736823-65b7-4631-bf9b-974ce8a8c915"
      },
      "execution_count": null,
      "outputs": [
        {
          "output_type": "stream",
          "name": "stdout",
          "text": [
            "Element 0 : Banana\n",
            "Element 1 : Orange\n",
            "Element 2 : Apple\n",
            "Element 3 : Mango\n"
          ]
        }
      ]
    },
    {
      "cell_type": "markdown",
      "source": [
        "The easiest way to add a new element to an array is using the *push()* method:"
      ],
      "metadata": {
        "id": "PkCTGS7imB0o"
      }
    },
    {
      "cell_type": "code",
      "source": [
        "// We create an array with elements \"Banana\", \"Orange\" and \"Apple\"\n",
        "fruits = [\"Banana\", \"Orange\", \"Apple\"];\n",
        "\n",
        "// We add a new element \"Lemon\" to the array\n",
        "fruits.push(\"Lemon\");\n",
        "\n",
        "// We print the contents of the element of the array\n",
        "console.log(fruits)"
      ],
      "metadata": {
        "colab": {
          "base_uri": "https://localhost:8080/"
        },
        "id": "IZOPicaNmB8j",
        "outputId": "071f3752-3bea-4fe5-9cae-1d095ce20cc3"
      },
      "execution_count": null,
      "outputs": [
        {
          "output_type": "stream",
          "name": "stdout",
          "text": [
            "[ 'Banana', 'Orange', 'Apple', 'Lemon' ]\n"
          ]
        }
      ]
    },
    {
      "cell_type": "markdown",
      "source": [
        "# Objects"
      ],
      "metadata": {
        "id": "TGUwUziksK_z"
      }
    },
    {
      "cell_type": "markdown",
      "source": [
        "JavaScript objects are containers for named values called properties:"
      ],
      "metadata": {
        "id": "hOO0ye9csLLU"
      }
    },
    {
      "cell_type": "code",
      "source": [
        "// We can create an object for a person with a first name, last name and age\n",
        "person = { firstName: \"John\", lastName: \"Doe\", age: 46 };"
      ],
      "metadata": {
        "colab": {
          "base_uri": "https://localhost:8080/"
        },
        "id": "dcJ14C2zsLQ4",
        "outputId": "84e63f40-fc2f-43dd-f940-039ecabf2aed"
      },
      "execution_count": null,
      "outputs": [
        {
          "output_type": "execute_result",
          "data": {
            "text/plain": [
              "{ firstName: 'John', lastName: 'Doe', age: 46 }"
            ]
          },
          "metadata": {},
          "execution_count": 63
        }
      ]
    },
    {
      "cell_type": "markdown",
      "source": [
        "Objects use names to access its \"members\", instead of an index:"
      ],
      "metadata": {
        "id": "zFGn3JgZs6di"
      }
    },
    {
      "cell_type": "code",
      "source": [
        "// We can get the value of an element using its name\n",
        "firstName = person.firstName\n",
        "\n",
        "// We can print the first name of the person\n",
        "console.log(firstName)"
      ],
      "metadata": {
        "colab": {
          "base_uri": "https://localhost:8080/"
        },
        "id": "SDWGpBLos6js",
        "outputId": "0011e89a-3a0e-4b3d-871d-67e8dac33c22"
      },
      "execution_count": null,
      "outputs": [
        {
          "output_type": "stream",
          "name": "stdout",
          "text": [
            "John\n"
          ]
        }
      ]
    },
    {
      "cell_type": "markdown",
      "source": [
        "Names can also be used to access its \"members\" and change their values:"
      ],
      "metadata": {
        "id": "6B1Ow_wkvO2m"
      }
    },
    {
      "cell_type": "code",
      "source": [
        "// We can get the value of an element using its name\n",
        "person.firstName = \"Peter\"\n",
        "\n",
        "// We can print the first name of the person\n",
        "console.log(person)"
      ],
      "metadata": {
        "colab": {
          "base_uri": "https://localhost:8080/",
          "height": 131
        },
        "id": "oofJpsfNvO-I",
        "outputId": "0f741591-2d1c-4026-d094-8ebc4ff8ab7d"
      },
      "execution_count": 1,
      "outputs": [
        {
          "output_type": "error",
          "ename": "SyntaxError",
          "evalue": "ignored",
          "traceback": [
            "\u001b[0;36m  File \u001b[0;32m\"<ipython-input-1-5737d7ececcf>\"\u001b[0;36m, line \u001b[0;32m1\u001b[0m\n\u001b[0;31m    // We can get the value of an element using its name\u001b[0m\n\u001b[0m     ^\u001b[0m\n\u001b[0;31mSyntaxError\u001b[0m\u001b[0;31m:\u001b[0m invalid syntax\n"
          ]
        }
      ]
    },
    {
      "cell_type": "markdown",
      "source": [
        "The difference between Arrays and Objects is the following:\n",
        "\n",
        "* In JavaScript, arrays use numbered indexes.  \n",
        "\n",
        "* In JavaScript, objects use named indexes."
      ],
      "metadata": {
        "id": "0CnuN61JuelD"
      }
    },
    {
      "cell_type": "markdown",
      "source": [
        "# Exercises"
      ],
      "metadata": {
        "id": "bTLsKKJmg5wX"
      }
    },
    {
      "cell_type": "markdown",
      "source": [
        "Add the neccesary code to change the last name of a person and add a new person at the end of the array of people:"
      ],
      "metadata": {
        "id": "guqC8PvFuwZA"
      }
    },
    {
      "cell_type": "code",
      "source": [
        "// We create an array with elements \"Banana\", \"Orange\" and \"Apple\"\n",
        "person1 = { firstName: \"John\", lastName: \"Doe\", age: 22 };\n",
        "person2 = { firstName: \"Peter\", lastName: \"Davis\", age: 31 };\n",
        "person3 = { firstName: \"George\", lastName: \"Williams\", age: 81 };\n",
        "person4 = { firstName: \"Lewis\", lastName: \"White\", age: 23 };\n",
        "person5 = { firstName: \"Patrick\", lastName: \"Hamilton\", age: 49 };\n",
        "\n",
        "people = [person1, person2, person3, person4, person5];\n",
        "\n",
        "// We can loop through the elements of the arrray \n",
        "// starting from the begining until we reach the last one\n",
        "for (i = 0; i < people.length; i++) {\n",
        "\n",
        "  // TODO: change the last name of Lewis to \"Red\"\n",
        "\n",
        "}\n",
        "\n",
        "// TODO: append a new person to the array with the name \"John\", last name \"Mars\" and age \"51\"\n",
        "\n",
        "// Check the results printing the contents of the array\n",
        "console.log(people)"
      ],
      "metadata": {
        "id": "yF5tfVgGg7YM",
        "colab": {
          "base_uri": "https://localhost:8080/"
        },
        "outputId": "4890ea38-2855-46f4-f7e6-4b7a612fedb3"
      },
      "execution_count": null,
      "outputs": [
        {
          "output_type": "stream",
          "name": "stdout",
          "text": [
            "[\n",
            "  { firstName: 'John', lastName: 'Doe', age: 22 },\n",
            "  { firstName: 'Peter', lastName: 'Davis', age: 31 },\n",
            "  { firstName: 'George', lastName: 'Williams', age: 81 },\n",
            "  { firstName: 'Lewis', lastName: 'White', age: 23 },\n",
            "  { firstName: 'Patrick', lastName: 'Hamilton', age: 49 }\n",
            "]\n"
          ]
        }
      ]
    }
  ]
}